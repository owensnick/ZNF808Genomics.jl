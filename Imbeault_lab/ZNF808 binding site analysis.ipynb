{
 "cells": [
  {
   "cell_type": "code",
   "execution_count": 1,
   "metadata": {},
   "outputs": [],
   "source": [
    "import pybedtools\n",
    "from pybedtools.featurefuncs import midpoint\n",
    "\n",
    "chr_dict = {\"1\": \"chr1\",\n",
    "            \"2\": \"chr2\",\n",
    "            \"3\": \"chr3\",\n",
    "            \"4\": \"chr4\",\n",
    "            \"5\": \"chr5\",\n",
    "            \"6\": \"chr6\",\n",
    "            \"7\": \"chr7\",\n",
    "            \"8\": \"chr8\",\n",
    "            \"9\": \"chr9\",\n",
    "            \"10\": \"chr10\",\n",
    "            \"11\": \"chr11\",\n",
    "            \"12\": \"chr12\",\n",
    "            \"13\": \"chr13\",\n",
    "            \"14\": \"chr14\",\n",
    "            \"15\": \"chr15\",\n",
    "            \"16\": \"chr16\",\n",
    "            \"17\": \"chr17\",\n",
    "            \"18\": \"chr18\",\n",
    "            \"19\": \"chr19\",\n",
    "            \"20\": \"chr20\",\n",
    "            \"21\": \"chr21\",\n",
    "            \"22\": \"chr22\",\n",
    "            \"X\": \"chrX\",\n",
    "            \"Y\": \"chrY\",\n",
    "            \"MT\": \"chrM\"}\n",
    "\n",
    "chr_dict_rev = {\"chr1\": \"1\",\n",
    "                \"chr2\": \"2\",\n",
    "                \"chr3\": \"3\",\n",
    "                \"chr4\": \"4\",\n",
    "                \"chr5\": \"5\",\n",
    "                \"chr6\": \"6\",\n",
    "                \"chr7\": \"7\",\n",
    "                \"chr8\": \"8\",\n",
    "                \"chr9\": \"9\",\n",
    "                \"chr10\": \"10\",\n",
    "                \"chr11\": \"11\",\n",
    "                \"chr12\": \"12\",\n",
    "                \"chr13\": \"13\",\n",
    "                \"chr14\": \"14\",\n",
    "                \"chr15\": \"15\",\n",
    "                \"chr16\": \"16\",\n",
    "                \"chr17\": \"17\",\n",
    "                \"chr18\": \"18\",\n",
    "                \"chr19\": \"19\",\n",
    "                \"chr20\": \"20\",\n",
    "                \"chr21\": \"21\",\n",
    "                \"chr22\": \"22\",\n",
    "                \"chrX\": \"X\",\n",
    "                \"chrY\": \"Y\",\n",
    "                \"chrM\": \"MT\"}\n",
    "\n",
    "def GRCh37_to_hg19(feature):\n",
    "    if str(feature.chrom) in chr_dict:\n",
    "        feature.chrom = chr_dict[str(feature.chrom)]\n",
    "    #discard non-standard chromosomes\n",
    "    elif str(feature.chrom) not in chr_dict_rev:\n",
    "        feature = ''\n",
    "    return feature\n",
    "\n",
    "# bed file not included in repo, can be generated from https://www.repeatmasker.org/genomes/hg19/RepeatMasker-rm405-db20140131/hg19.fa.out.gz\n",
    "repeats = pybedtools.BedTool(\"Files/hg19_transposons_20140131_sorted.bed\").filter(lambda f: False if f.chrom == \"chrY\" else True).saveas()"
   ]
  },
  {
   "cell_type": "code",
   "execution_count": 2,
   "metadata": {},
   "outputs": [],
   "source": [
    "promoters = pybedtools.BedTool(\"Files/protein_coding_2.5kb_each.bed\").each(GRCh37_to_hg19).sort().filter(lambda f: False if f.chrom == \"chrY\" else True).saveas()"
   ]
  },
  {
   "cell_type": "code",
   "execution_count": 4,
   "metadata": {},
   "outputs": [],
   "source": [
    "krab_name = \"ZNF808\"\n",
    "krab = pybedtools.BedTool(\"Files/\" + krab_name + \"_peaks_processed_score_signal_exo.bed\").each(GRCh37_to_hg19).filter(lambda f: False if float(f.score) < 100.0 else True).each(midpoint).sort()\n",
    "#take center bp to make things cleaner\n",
    "krab = krab.each(midpoint).filter(lambda f: False if f.chrom == \"chrY\" else True).saveas()"
   ]
  },
  {
   "cell_type": "code",
   "execution_count": 5,
   "metadata": {},
   "outputs": [],
   "source": [
    "#remove Y chromosome\n",
    "#total binding sites for kzfp\n",
    "total_kzfp = len(krab)\n",
    "#number of TE AND promoter, remove from both others\n",
    "total_kzfp_TE_promoter = len(krab.intersect(promoters, u=True, sorted=True).intersect(repeats, u=True, sorted=True))\n",
    "\n",
    "#number of binding sites that overlap with TE, unique\n",
    "total_kzfp_TE = len(krab.intersect(repeats, u=True, sorted=True, f=0.5, F=0.5, e=True)) - total_kzfp_TE_promoter\n",
    "#number of binding sites within promoters, 2.5kb - make a graph of distance\n",
    "total_kzfp_promoter = len(krab.intersect(promoters, u=True, sorted=True)) - total_kzfp_TE_promoter\n",
    "#number of non-TE, non-promoter binding sites\n",
    "total_kzfp_others = total_kzfp - total_kzfp_TE - total_kzfp_promoter - total_kzfp_TE_promoter"
   ]
  },
  {
   "cell_type": "code",
   "execution_count": 6,
   "metadata": {},
   "outputs": [
    {
     "name": "stdout",
     "output_type": "stream",
     "text": [
      "2849\n",
      "2003\n",
      "101\n",
      "52\n",
      "693\n"
     ]
    }
   ],
   "source": [
    "print(total_kzfp)\n",
    "print(total_kzfp_TE)\n",
    "print(total_kzfp_promoter)\n",
    "print(total_kzfp_TE_promoter)\n",
    "print(total_kzfp_others)"
   ]
  },
  {
   "cell_type": "code",
   "execution_count": 7,
   "metadata": {},
   "outputs": [
    {
     "name": "stdout",
     "output_type": "stream",
     "text": [
      "0.7030537030537031\n",
      "0.03545103545103545\n",
      "0.018252018252018252\n",
      "0.24324324324324326\n"
     ]
    }
   ],
   "source": [
    "percent_kzfp_TE = total_kzfp_TE / total_kzfp\n",
    "percent_kzfp_promoter = total_kzfp_promoter / total_kzfp\n",
    "percent_kzfp_TE_promoter = total_kzfp_TE_promoter / total_kzfp\n",
    "percent_kzfp_others = total_kzfp_others / total_kzfp\n",
    "\n",
    "print(percent_kzfp_TE)\n",
    "print(percent_kzfp_promoter)\n",
    "print(percent_kzfp_TE_promoter)\n",
    "print(percent_kzfp_others)"
   ]
  },
  {
   "cell_type": "code",
   "execution_count": 8,
   "metadata": {},
   "outputs": [
    {
     "data": {
      "image/png": "[encoded data removed]",
      "text/plain": [
       "<Figure size 576x576 with 1 Axes>"
      ]
     },
     "metadata": {},
     "output_type": "display_data"
    }
   ],
   "source": [
    "import matplotlib.pyplot as plt\n",
    "#import seaborn as sns\n",
    "import matplotlib.font_manager\n",
    "import seaborn as sns\n",
    "\n",
    "fig, ax = plt.subplots(figsize=(8,8))\n",
    "#plt.rcParams['font.sans-serif'] = 'Arial'\n",
    "plt.rcParams['text.color'] = '#909090'\n",
    "plt.rcParams['axes.labelcolor']= '#909090'\n",
    "plt.rcParams['xtick.color'] = '#909090'\n",
    "plt.rcParams['ytick.color'] = '#909090'\n",
    "plt.rcParams['font.size'] = 12\n",
    "\n",
    "color_palette_list = ['#8db0f8', '#d86f8b', '#999999',]\n",
    "#color_palette_list = sns.color_palette('pastel')[0:5]\n",
    "labels = ['Transposable elements', \n",
    "          'Promoter',\n",
    "          'Other',\n",
    "         ]\n",
    "percentages = [percent_kzfp_TE + percent_kzfp_TE_promoter, percent_kzfp_promoter, percent_kzfp_others]\n",
    "\n",
    "\n",
    "explode=(0,0,0,0)\n",
    "ax.pie(percentages, labels=labels,  \n",
    "       colors=color_palette_list, \n",
    "       shadow=False, startangle=0, wedgeprops = { 'linewidth':1.5, \"edgecolor\":\"black\", 'antialiased': True}  )\n",
    "\n",
    "#ax.set_title(krab_name)\n",
    "#ax.legend(frameon=False, bbox_to_anchor=(1.5,0.8))\n",
    "plt.savefig(\"myimg.svg\")"
   ]
  },
  {
   "cell_type": "code",
   "execution_count": 13,
   "metadata": {},
   "outputs": [],
   "source": [
    "#scale others per time evolution"
   ]
  },
  {
   "cell_type": "code",
   "execution_count": 9,
   "metadata": {},
   "outputs": [
    {
     "name": "stdout",
     "output_type": "stream",
     "text": [
      "            Count  percentage  significant\n",
      "name                                      \n",
      "MER77B          1    0.000485            0\n",
      "MLT1J2          1    0.000485            0\n",
      "MER20           1    0.000485            0\n",
      "MLT1J2-int      1    0.000485            0\n",
      "MER21C          1    0.000485            0\n",
      "...           ...         ...          ...\n",
      "LTR7Y          56    0.027184            1\n",
      "LTR7B         168    0.081553            1\n",
      "MER11C        219    0.106311            1\n",
      "MER11B        368    0.178641            1\n",
      "MER11A        758    0.367961            1\n",
      "\n",
      "[209 rows x 3 columns]\n",
      "Count          2060.0\n",
      "percentage        1.0\n",
      "significant       6.0\n",
      "dtype: float64\n"
     ]
    }
   ],
   "source": [
    "import pandas as pd\n",
    "from pybedtools import featurefuncs\n",
    "#TE details\n",
    "#out of those, all families, above 5%, bundle the rest as others\n",
    "kzfp_TE = repeats.intersect(krab, u=True, sorted=True, f=0.5, F=0.5, e=True, wa=True)\n",
    "kzfp_TE_df = kzfp_TE.to_dataframe()\n",
    "kzfp_TE_group_df = pd.DataFrame(kzfp_TE_df.groupby(\"name\").size(), columns=['Count'])\n",
    "kzfp_TE_group_df[\"percentage\"] = kzfp_TE_group_df / len(kzfp_TE)\n",
    "kzfp_TE_group_df[\"significant\"] = 0\n",
    "kzfp_TE_group_df.loc[kzfp_TE_group_df['percentage'] >= 0.01, 'significant'] = 1\n",
    "\n",
    "print(kzfp_TE_group_df.sort_values(by='percentage'))\n",
    "print(kzfp_TE_group_df.sort_values(by='percentage').sum())"
   ]
  },
  {
   "cell_type": "code",
   "execution_count": 10,
   "metadata": {},
   "outputs": [
    {
     "data": {
      "text/html": [
       "<div>\n",
       "<style scoped>\n",
       "    .dataframe tbody tr th:only-of-type {\n",
       "        vertical-align: middle;\n",
       "    }\n",
       "\n",
       "    .dataframe tbody tr th {\n",
       "        vertical-align: top;\n",
       "    }\n",
       "\n",
       "    .dataframe thead th {\n",
       "        text-align: right;\n",
       "    }\n",
       "</style>\n",
       "<table border=\"1\" class=\"dataframe\">\n",
       "  <thead>\n",
       "    <tr style=\"text-align: right;\">\n",
       "      <th></th>\n",
       "      <th>Count</th>\n",
       "      <th>percentage</th>\n",
       "      <th>significant</th>\n",
       "    </tr>\n",
       "    <tr>\n",
       "      <th>name</th>\n",
       "      <th></th>\n",
       "      <th></th>\n",
       "      <th></th>\n",
       "    </tr>\n",
       "  </thead>\n",
       "  <tbody>\n",
       "    <tr>\n",
       "      <th>MER11A</th>\n",
       "      <td>758</td>\n",
       "      <td>0.367961</td>\n",
       "      <td>1</td>\n",
       "    </tr>\n",
       "    <tr>\n",
       "      <th>MER11B</th>\n",
       "      <td>368</td>\n",
       "      <td>0.178641</td>\n",
       "      <td>1</td>\n",
       "    </tr>\n",
       "    <tr>\n",
       "      <th>MER11C</th>\n",
       "      <td>219</td>\n",
       "      <td>0.106311</td>\n",
       "      <td>1</td>\n",
       "    </tr>\n",
       "    <tr>\n",
       "      <th>LTR7B</th>\n",
       "      <td>168</td>\n",
       "      <td>0.081553</td>\n",
       "      <td>1</td>\n",
       "    </tr>\n",
       "    <tr>\n",
       "      <th>LTR7Y</th>\n",
       "      <td>56</td>\n",
       "      <td>0.027184</td>\n",
       "      <td>1</td>\n",
       "    </tr>\n",
       "    <tr>\n",
       "      <th>L2a</th>\n",
       "      <td>35</td>\n",
       "      <td>0.016990</td>\n",
       "      <td>1</td>\n",
       "    </tr>\n",
       "    <tr>\n",
       "      <th>L2c</th>\n",
       "      <td>16</td>\n",
       "      <td>0.007767</td>\n",
       "      <td>0</td>\n",
       "    </tr>\n",
       "    <tr>\n",
       "      <th>L1PA7</th>\n",
       "      <td>14</td>\n",
       "      <td>0.006796</td>\n",
       "      <td>0</td>\n",
       "    </tr>\n",
       "    <tr>\n",
       "      <th>MIRb</th>\n",
       "      <td>13</td>\n",
       "      <td>0.006311</td>\n",
       "      <td>0</td>\n",
       "    </tr>\n",
       "    <tr>\n",
       "      <th>L1ME1</th>\n",
       "      <td>12</td>\n",
       "      <td>0.005825</td>\n",
       "      <td>0</td>\n",
       "    </tr>\n",
       "  </tbody>\n",
       "</table>\n",
       "</div>"
      ],
      "text/plain": [
       "        Count  percentage  significant\n",
       "name                                  \n",
       "MER11A    758    0.367961            1\n",
       "MER11B    368    0.178641            1\n",
       "MER11C    219    0.106311            1\n",
       "LTR7B     168    0.081553            1\n",
       "LTR7Y      56    0.027184            1\n",
       "L2a        35    0.016990            1\n",
       "L2c        16    0.007767            0\n",
       "L1PA7      14    0.006796            0\n",
       "MIRb       13    0.006311            0\n",
       "L1ME1      12    0.005825            0"
      ]
     },
     "execution_count": 10,
     "metadata": {},
     "output_type": "execute_result"
    }
   ],
   "source": [
    "kzfp_TE_group_df.sort_values(by='percentage', ascending=False)[0:10]"
   ]
  },
  {
   "cell_type": "code",
   "execution_count": 11,
   "metadata": {},
   "outputs": [
    {
     "data": {
      "text/plain": [
       "0.3679611650485437"
      ]
     },
     "execution_count": 11,
     "metadata": {},
     "output_type": "execute_result"
    }
   ],
   "source": [
    "kzfp_TE_group_df.loc['MER11A', 'percentage']"
   ]
  },
  {
   "cell_type": "code",
   "execution_count": 12,
   "metadata": {},
   "outputs": [
    {
     "data": {
      "text/plain": [
       "0.34708737864077666"
      ]
     },
     "execution_count": 12,
     "metadata": {},
     "output_type": "execute_result"
    }
   ],
   "source": [
    "kzfp_TE_group_df[~kzfp_TE_group_df.index.isin(['MER11A', 'MER11B', 'MER11C'])]['percentage'].sum()"
   ]
  },
  {
   "cell_type": "code",
   "execution_count": 13,
   "metadata": {},
   "outputs": [
    {
     "data": {
      "text/plain": [
       "Count          715.000000\n",
       "percentage       0.347087\n",
       "significant      3.000000\n",
       "dtype: float64"
      ]
     },
     "execution_count": 13,
     "metadata": {},
     "output_type": "execute_result"
    }
   ],
   "source": [
    "kzfp_TE_group_df[~kzfp_TE_group_df.index.isin(['MER11A', 'MER11B', 'MER11C'])].sum()"
   ]
  },
  {
   "cell_type": "code",
   "execution_count": 14,
   "metadata": {},
   "outputs": [
    {
     "data": {
      "text/plain": [
       "([<matplotlib.patches.Wedge at 0x7f6008f9dd00>,\n",
       "  <matplotlib.patches.Wedge at 0x7f6008faa1f0>,\n",
       "  <matplotlib.patches.Wedge at 0x7f6008faa670>,\n",
       "  <matplotlib.patches.Wedge at 0x7f6008faaaf0>],\n",
       " [Text(0.4433198947250644, -1.0067112152653104, 'MER11A'),\n",
       "  Text(-1.0606137784993313, -0.2917163225761828, 'MER11B'),\n",
       "  Text(-0.8909036575796156, 0.6452059151242053, 'MER11C'),\n",
       "  Text(0.5083368407153388, 0.9754966203793576, 'Other families')])"
      ]
     },
     "execution_count": 14,
     "metadata": {},
     "output_type": "execute_result"
    },
    {
     "data": {
      "image/png": "[encoded data removed]",
      "text/plain": [
       "<Figure size 576x576 with 1 Axes>"
      ]
     },
     "metadata": {},
     "output_type": "display_data"
    }
   ],
   "source": [
    "import matplotlib.pyplot as plt\n",
    "#import seaborn as sns\n",
    "import matplotlib.font_manager\n",
    "\n",
    "fig, ax = plt.subplots(figsize=(8,8))\n",
    "#plt.rcParams['font.sans-serif'] = 'Arial'\n",
    "plt.rcParams['text.color'] = '#909090'\n",
    "plt.rcParams['axes.labelcolor']= '#909090'\n",
    "plt.rcParams['xtick.color'] = '#909090'\n",
    "plt.rcParams['ytick.color'] = '#909090'\n",
    "plt.rcParams['font.size'] = 12\n",
    "\n",
    "color_palette_list = ['#5ccf6d', '#e48859', '#5fb8d5', '#999999',]\n",
    "\n",
    "labels = ['MER11A', \n",
    "          'MER11B',\n",
    "          'MER11C',\n",
    "          'Other families'\n",
    "         ]\n",
    "\n",
    "percentages = [kzfp_TE_group_df.loc['MER11A', 'percentage'], kzfp_TE_group_df.loc['MER11B', 'percentage'], kzfp_TE_group_df.loc['MER11C', 'percentage'], kzfp_TE_group_df[~kzfp_TE_group_df.index.isin(['MER11A', 'MER11B', 'MER11C'])]['percentage'].sum()]\n",
    "\n",
    "explode=(0,0,0,0)\n",
    "ax.pie(percentages, labels=labels,  \n",
    "       colors=color_palette_list,\n",
    "       shadow=False, startangle=0,    counterclock=False,\n",
    "       wedgeprops = { 'linewidth':1.5, \"edgecolor\":\"black\", 'antialiased': True}\n",
    "       )\n",
    "\n",
    "#ax.set_title(krab_name)\n",
    "#ax.legend(frameon=False, bbox_to_anchor=(1.5,0.8))"
   ]
  },
  {
   "cell_type": "code",
   "execution_count": null,
   "metadata": {},
   "outputs": [],
   "source": []
  }
 ],
 "metadata": {
  "kernelspec": {
   "display_name": "Python 3",
   "language": "python",
   "name": "python3"
  },
  "language_info": {
   "codemirror_mode": {
    "name": "ipython",
    "version": 3
   },
   "file_extension": ".py",
   "mimetype": "text/x-python",
   "name": "python",
   "nbconvert_exporter": "python",
   "pygments_lexer": "ipython3",
   "version": "3.8.8"
  },
  "widgets": {
   "application/vnd.jupyter.widget-state+json": {
    "state": {},
    "version_major": 2,
    "version_minor": 0
   }
  }
 },
 "nbformat": 4,
 "nbformat_minor": 4
}
